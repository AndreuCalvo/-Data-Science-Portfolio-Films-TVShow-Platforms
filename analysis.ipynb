{
 "cells": [
  {
   "cell_type": "code",
   "execution_count": 101,
   "metadata": {},
   "outputs": [],
   "source": [
    "#import libaries\n",
    "import pandas as pd\n",
    "import matplotlib.pyplot as plt\n",
    "import seaborn as sns"
   ]
  },
  {
   "cell_type": "markdown",
   "metadata": {},
   "source": [
    "# Descriptive Analysis"
   ]
  },
  {
   "cell_type": "code",
   "execution_count": 102,
   "metadata": {},
   "outputs": [
    {
     "data": {
      "text/html": [
       "<div>\n",
       "<style scoped>\n",
       "    .dataframe tbody tr th:only-of-type {\n",
       "        vertical-align: middle;\n",
       "    }\n",
       "\n",
       "    .dataframe tbody tr th {\n",
       "        vertical-align: top;\n",
       "    }\n",
       "\n",
       "    .dataframe thead th {\n",
       "        text-align: right;\n",
       "    }\n",
       "</style>\n",
       "<table border=\"1\" class=\"dataframe\">\n",
       "  <thead>\n",
       "    <tr style=\"text-align: right;\">\n",
       "      <th></th>\n",
       "      <th>title</th>\n",
       "      <th>type</th>\n",
       "      <th>genres</th>\n",
       "      <th>releaseYear</th>\n",
       "      <th>imdbId</th>\n",
       "      <th>imdbAverageRating</th>\n",
       "      <th>imdbNumVotes</th>\n",
       "      <th>availableCountries</th>\n",
       "    </tr>\n",
       "  </thead>\n",
       "  <tbody>\n",
       "    <tr>\n",
       "      <th>0</th>\n",
       "      <td>Blondie</td>\n",
       "      <td>movie</td>\n",
       "      <td>Comedy, Family</td>\n",
       "      <td>1938.0</td>\n",
       "      <td>tt0029927</td>\n",
       "      <td>6.9</td>\n",
       "      <td>886.0</td>\n",
       "      <td>US, ZA</td>\n",
       "    </tr>\n",
       "    <tr>\n",
       "      <th>1</th>\n",
       "      <td>Ariel</td>\n",
       "      <td>movie</td>\n",
       "      <td>Comedy, Crime, Romance</td>\n",
       "      <td>1988.0</td>\n",
       "      <td>tt0094675</td>\n",
       "      <td>7.4</td>\n",
       "      <td>8755.0</td>\n",
       "      <td>JP</td>\n",
       "    </tr>\n",
       "    <tr>\n",
       "      <th>2</th>\n",
       "      <td>Four Rooms</td>\n",
       "      <td>movie</td>\n",
       "      <td>Comedy</td>\n",
       "      <td>1995.0</td>\n",
       "      <td>tt0113101</td>\n",
       "      <td>6.7</td>\n",
       "      <td>112544.0</td>\n",
       "      <td>AT, DE</td>\n",
       "    </tr>\n",
       "    <tr>\n",
       "      <th>3</th>\n",
       "      <td>Judgment Night</td>\n",
       "      <td>movie</td>\n",
       "      <td>Action, Crime, Drama</td>\n",
       "      <td>1993.0</td>\n",
       "      <td>tt0107286</td>\n",
       "      <td>6.6</td>\n",
       "      <td>19286.0</td>\n",
       "      <td>US</td>\n",
       "    </tr>\n",
       "    <tr>\n",
       "      <th>4</th>\n",
       "      <td>Forrest Gump</td>\n",
       "      <td>movie</td>\n",
       "      <td>Drama, Romance</td>\n",
       "      <td>1994.0</td>\n",
       "      <td>tt0109830</td>\n",
       "      <td>8.8</td>\n",
       "      <td>2315661.0</td>\n",
       "      <td>AD, AT, CU, DE, IN, JP, SN</td>\n",
       "    </tr>\n",
       "  </tbody>\n",
       "</table>\n",
       "</div>"
      ],
      "text/plain": [
       "            title   type                  genres  releaseYear     imdbId  \\\n",
       "0         Blondie  movie          Comedy, Family       1938.0  tt0029927   \n",
       "1           Ariel  movie  Comedy, Crime, Romance       1988.0  tt0094675   \n",
       "2      Four Rooms  movie                  Comedy       1995.0  tt0113101   \n",
       "3  Judgment Night  movie    Action, Crime, Drama       1993.0  tt0107286   \n",
       "4    Forrest Gump  movie          Drama, Romance       1994.0  tt0109830   \n",
       "\n",
       "   imdbAverageRating  imdbNumVotes          availableCountries  \n",
       "0                6.9         886.0                      US, ZA  \n",
       "1                7.4        8755.0                          JP  \n",
       "2                6.7      112544.0                      AT, DE  \n",
       "3                6.6       19286.0                          US  \n",
       "4                8.8     2315661.0  AD, AT, CU, DE, IN, JP, SN  "
      ]
     },
     "execution_count": 102,
     "metadata": {},
     "output_type": "execute_result"
    }
   ],
   "source": [
    "data_amazon = pd.read_csv('datasets\\data_amazon.csv')\n",
    "data_amazon.head()"
   ]
  },
  {
   "cell_type": "code",
   "execution_count": 103,
   "metadata": {},
   "outputs": [
    {
     "data": {
      "text/html": [
       "<div>\n",
       "<style scoped>\n",
       "    .dataframe tbody tr th:only-of-type {\n",
       "        vertical-align: middle;\n",
       "    }\n",
       "\n",
       "    .dataframe tbody tr th {\n",
       "        vertical-align: top;\n",
       "    }\n",
       "\n",
       "    .dataframe thead th {\n",
       "        text-align: right;\n",
       "    }\n",
       "</style>\n",
       "<table border=\"1\" class=\"dataframe\">\n",
       "  <thead>\n",
       "    <tr style=\"text-align: right;\">\n",
       "      <th></th>\n",
       "      <th>title</th>\n",
       "      <th>type</th>\n",
       "      <th>genres</th>\n",
       "      <th>releaseYear</th>\n",
       "      <th>imdbId</th>\n",
       "      <th>imdbAverageRating</th>\n",
       "      <th>imdbNumVotes</th>\n",
       "      <th>availableCountries</th>\n",
       "    </tr>\n",
       "  </thead>\n",
       "  <tbody>\n",
       "    <tr>\n",
       "      <th>0</th>\n",
       "      <td>Four Rooms</td>\n",
       "      <td>movie</td>\n",
       "      <td>Comedy</td>\n",
       "      <td>1995.0</td>\n",
       "      <td>tt0113101</td>\n",
       "      <td>6.7</td>\n",
       "      <td>112544.0</td>\n",
       "      <td>DE</td>\n",
       "    </tr>\n",
       "    <tr>\n",
       "      <th>1</th>\n",
       "      <td>Forrest Gump</td>\n",
       "      <td>movie</td>\n",
       "      <td>Drama, Romance</td>\n",
       "      <td>1994.0</td>\n",
       "      <td>tt0109830</td>\n",
       "      <td>8.8</td>\n",
       "      <td>2315661.0</td>\n",
       "      <td>AU, CA, DE, US</td>\n",
       "    </tr>\n",
       "    <tr>\n",
       "      <th>2</th>\n",
       "      <td>Citizen Kane</td>\n",
       "      <td>movie</td>\n",
       "      <td>Drama, Mystery</td>\n",
       "      <td>1941.0</td>\n",
       "      <td>tt0033467</td>\n",
       "      <td>8.3</td>\n",
       "      <td>473008.0</td>\n",
       "      <td>DE, GB</td>\n",
       "    </tr>\n",
       "    <tr>\n",
       "      <th>3</th>\n",
       "      <td>Metropolis</td>\n",
       "      <td>movie</td>\n",
       "      <td>Drama, Sci-Fi</td>\n",
       "      <td>1927.0</td>\n",
       "      <td>tt0017136</td>\n",
       "      <td>8.3</td>\n",
       "      <td>189486.0</td>\n",
       "      <td>GB</td>\n",
       "    </tr>\n",
       "    <tr>\n",
       "      <th>4</th>\n",
       "      <td>Kill Bill: Vol. 1</td>\n",
       "      <td>movie</td>\n",
       "      <td>Action, Crime, Thriller</td>\n",
       "      <td>2003.0</td>\n",
       "      <td>tt0266697</td>\n",
       "      <td>8.2</td>\n",
       "      <td>1221506.0</td>\n",
       "      <td>BR, CL, CO, MX</td>\n",
       "    </tr>\n",
       "  </tbody>\n",
       "</table>\n",
       "</div>"
      ],
      "text/plain": [
       "               title   type                   genres  releaseYear     imdbId  \\\n",
       "0         Four Rooms  movie                   Comedy       1995.0  tt0113101   \n",
       "1       Forrest Gump  movie           Drama, Romance       1994.0  tt0109830   \n",
       "2       Citizen Kane  movie           Drama, Mystery       1941.0  tt0033467   \n",
       "3         Metropolis  movie            Drama, Sci-Fi       1927.0  tt0017136   \n",
       "4  Kill Bill: Vol. 1  movie  Action, Crime, Thriller       2003.0  tt0266697   \n",
       "\n",
       "   imdbAverageRating  imdbNumVotes availableCountries  \n",
       "0                6.7      112544.0                 DE  \n",
       "1                8.8     2315661.0     AU, CA, DE, US  \n",
       "2                8.3      473008.0             DE, GB  \n",
       "3                8.3      189486.0                 GB  \n",
       "4                8.2     1221506.0     BR, CL, CO, MX  "
      ]
     },
     "execution_count": 103,
     "metadata": {},
     "output_type": "execute_result"
    }
   ],
   "source": [
    "data_apple = pd.read_csv('datasets\\data_apple.csv')\n",
    "data_apple.head()"
   ]
  },
  {
   "cell_type": "code",
   "execution_count": 104,
   "metadata": {},
   "outputs": [
    {
     "data": {
      "text/html": [
       "<div>\n",
       "<style scoped>\n",
       "    .dataframe tbody tr th:only-of-type {\n",
       "        vertical-align: middle;\n",
       "    }\n",
       "\n",
       "    .dataframe tbody tr th {\n",
       "        vertical-align: top;\n",
       "    }\n",
       "\n",
       "    .dataframe thead th {\n",
       "        text-align: right;\n",
       "    }\n",
       "</style>\n",
       "<table border=\"1\" class=\"dataframe\">\n",
       "  <thead>\n",
       "    <tr style=\"text-align: right;\">\n",
       "      <th></th>\n",
       "      <th>title</th>\n",
       "      <th>type</th>\n",
       "      <th>genres</th>\n",
       "      <th>releaseYear</th>\n",
       "      <th>imdbId</th>\n",
       "      <th>imdbAverageRating</th>\n",
       "      <th>imdbNumVotes</th>\n",
       "      <th>availableCountries</th>\n",
       "    </tr>\n",
       "  </thead>\n",
       "  <tbody>\n",
       "    <tr>\n",
       "      <th>0</th>\n",
       "      <td>The Fifth Element</td>\n",
       "      <td>movie</td>\n",
       "      <td>Action, Adventure, Sci-Fi</td>\n",
       "      <td>1997.0</td>\n",
       "      <td>tt0119116</td>\n",
       "      <td>7.6</td>\n",
       "      <td>516953.0</td>\n",
       "      <td>DK, FI, NO, SE</td>\n",
       "    </tr>\n",
       "    <tr>\n",
       "      <th>1</th>\n",
       "      <td>Unforgiven</td>\n",
       "      <td>movie</td>\n",
       "      <td>Drama, Western</td>\n",
       "      <td>1992.0</td>\n",
       "      <td>tt0105695</td>\n",
       "      <td>8.2</td>\n",
       "      <td>443687.0</td>\n",
       "      <td>AD, AG, AR, BB, BE, BO, BR, BS, BZ, CL, CO, CR...</td>\n",
       "    </tr>\n",
       "    <tr>\n",
       "      <th>2</th>\n",
       "      <td>Eternal Sunshine of the Spotless Mind</td>\n",
       "      <td>movie</td>\n",
       "      <td>Drama, Romance, Sci-Fi</td>\n",
       "      <td>2004.0</td>\n",
       "      <td>tt0338013</td>\n",
       "      <td>8.3</td>\n",
       "      <td>1103296.0</td>\n",
       "      <td>AG, AR, BA, BB, BG, BO, BS, BZ, CL, CO, CR, CZ...</td>\n",
       "    </tr>\n",
       "    <tr>\n",
       "      <th>3</th>\n",
       "      <td>A History of Violence</td>\n",
       "      <td>movie</td>\n",
       "      <td>Action, Crime, Drama</td>\n",
       "      <td>2005.0</td>\n",
       "      <td>tt0399146</td>\n",
       "      <td>7.4</td>\n",
       "      <td>258921.0</td>\n",
       "      <td>AG, AR, BB, BO, BR, BS, BZ, CL, CO, CR, DO, EC...</td>\n",
       "    </tr>\n",
       "    <tr>\n",
       "      <th>4</th>\n",
       "      <td>2001: A Space Odyssey</td>\n",
       "      <td>movie</td>\n",
       "      <td>Adventure, Sci-Fi</td>\n",
       "      <td>1968.0</td>\n",
       "      <td>tt0062622</td>\n",
       "      <td>8.3</td>\n",
       "      <td>734926.0</td>\n",
       "      <td>AD, AG, AR, BB, BE, BO, BR, BS, BZ, CL, CO, CR...</td>\n",
       "    </tr>\n",
       "  </tbody>\n",
       "</table>\n",
       "</div>"
      ],
      "text/plain": [
       "                                   title   type                     genres  \\\n",
       "0                      The Fifth Element  movie  Action, Adventure, Sci-Fi   \n",
       "1                             Unforgiven  movie             Drama, Western   \n",
       "2  Eternal Sunshine of the Spotless Mind  movie     Drama, Romance, Sci-Fi   \n",
       "3                  A History of Violence  movie       Action, Crime, Drama   \n",
       "4                  2001: A Space Odyssey  movie          Adventure, Sci-Fi   \n",
       "\n",
       "   releaseYear     imdbId  imdbAverageRating  imdbNumVotes  \\\n",
       "0       1997.0  tt0119116                7.6      516953.0   \n",
       "1       1992.0  tt0105695                8.2      443687.0   \n",
       "2       2004.0  tt0338013                8.3     1103296.0   \n",
       "3       2005.0  tt0399146                7.4      258921.0   \n",
       "4       1968.0  tt0062622                8.3      734926.0   \n",
       "\n",
       "                                  availableCountries  \n",
       "0                                     DK, FI, NO, SE  \n",
       "1  AD, AG, AR, BB, BE, BO, BR, BS, BZ, CL, CO, CR...  \n",
       "2  AG, AR, BA, BB, BG, BO, BS, BZ, CL, CO, CR, CZ...  \n",
       "3  AG, AR, BB, BO, BR, BS, BZ, CL, CO, CR, DO, EC...  \n",
       "4  AD, AG, AR, BB, BE, BO, BR, BS, BZ, CL, CO, CR...  "
      ]
     },
     "execution_count": 104,
     "metadata": {},
     "output_type": "execute_result"
    }
   ],
   "source": [
    "data_max = pd.read_csv('datasets\\data_max.csv')\n",
    "data_max.head()"
   ]
  },
  {
   "cell_type": "code",
   "execution_count": 105,
   "metadata": {},
   "outputs": [
    {
     "data": {
      "text/html": [
       "<div>\n",
       "<style scoped>\n",
       "    .dataframe tbody tr th:only-of-type {\n",
       "        vertical-align: middle;\n",
       "    }\n",
       "\n",
       "    .dataframe tbody tr th {\n",
       "        vertical-align: top;\n",
       "    }\n",
       "\n",
       "    .dataframe thead th {\n",
       "        text-align: right;\n",
       "    }\n",
       "</style>\n",
       "<table border=\"1\" class=\"dataframe\">\n",
       "  <thead>\n",
       "    <tr style=\"text-align: right;\">\n",
       "      <th></th>\n",
       "      <th>title</th>\n",
       "      <th>type</th>\n",
       "      <th>genres</th>\n",
       "      <th>releaseYear</th>\n",
       "      <th>imdbId</th>\n",
       "      <th>imdbAverageRating</th>\n",
       "      <th>imdbNumVotes</th>\n",
       "      <th>availableCountries</th>\n",
       "    </tr>\n",
       "  </thead>\n",
       "  <tbody>\n",
       "    <tr>\n",
       "      <th>0</th>\n",
       "      <td>Forrest Gump</td>\n",
       "      <td>movie</td>\n",
       "      <td>Drama, Romance</td>\n",
       "      <td>1994.0</td>\n",
       "      <td>tt0109830</td>\n",
       "      <td>8.8</td>\n",
       "      <td>2315661.0</td>\n",
       "      <td>MX</td>\n",
       "    </tr>\n",
       "    <tr>\n",
       "      <th>1</th>\n",
       "      <td>The Fifth Element</td>\n",
       "      <td>movie</td>\n",
       "      <td>Action, Adventure, Sci-Fi</td>\n",
       "      <td>1997.0</td>\n",
       "      <td>tt0119116</td>\n",
       "      <td>7.6</td>\n",
       "      <td>516953.0</td>\n",
       "      <td>AT, CH, DE</td>\n",
       "    </tr>\n",
       "    <tr>\n",
       "      <th>2</th>\n",
       "      <td>Kill Bill: Vol. 1</td>\n",
       "      <td>movie</td>\n",
       "      <td>Action, Crime, Thriller</td>\n",
       "      <td>2003.0</td>\n",
       "      <td>tt0266697</td>\n",
       "      <td>8.2</td>\n",
       "      <td>1221506.0</td>\n",
       "      <td>AE, AL, AO, AT, AU, AZ, BG, BH, BY, CA, CI, CM...</td>\n",
       "    </tr>\n",
       "    <tr>\n",
       "      <th>3</th>\n",
       "      <td>Jarhead</td>\n",
       "      <td>movie</td>\n",
       "      <td>Biography, Drama, War</td>\n",
       "      <td>2005.0</td>\n",
       "      <td>tt0418763</td>\n",
       "      <td>7.0</td>\n",
       "      <td>211503.0</td>\n",
       "      <td>AD, AE, AG, AL, AO, AR, AT, AZ, BA, BB, BG, BH...</td>\n",
       "    </tr>\n",
       "    <tr>\n",
       "      <th>4</th>\n",
       "      <td>Unforgiven</td>\n",
       "      <td>movie</td>\n",
       "      <td>Drama, Western</td>\n",
       "      <td>1992.0</td>\n",
       "      <td>tt0105695</td>\n",
       "      <td>8.2</td>\n",
       "      <td>443687.0</td>\n",
       "      <td>AU, BA, BG, CZ, HR, HU, MD, ME, MK, NZ, PL, RO...</td>\n",
       "    </tr>\n",
       "  </tbody>\n",
       "</table>\n",
       "</div>"
      ],
      "text/plain": [
       "               title   type                     genres  releaseYear  \\\n",
       "0       Forrest Gump  movie             Drama, Romance       1994.0   \n",
       "1  The Fifth Element  movie  Action, Adventure, Sci-Fi       1997.0   \n",
       "2  Kill Bill: Vol. 1  movie    Action, Crime, Thriller       2003.0   \n",
       "3            Jarhead  movie      Biography, Drama, War       2005.0   \n",
       "4         Unforgiven  movie             Drama, Western       1992.0   \n",
       "\n",
       "      imdbId  imdbAverageRating  imdbNumVotes  \\\n",
       "0  tt0109830                8.8     2315661.0   \n",
       "1  tt0119116                7.6      516953.0   \n",
       "2  tt0266697                8.2     1221506.0   \n",
       "3  tt0418763                7.0      211503.0   \n",
       "4  tt0105695                8.2      443687.0   \n",
       "\n",
       "                                  availableCountries  \n",
       "0                                                 MX  \n",
       "1                                         AT, CH, DE  \n",
       "2  AE, AL, AO, AT, AU, AZ, BG, BH, BY, CA, CI, CM...  \n",
       "3  AD, AE, AG, AL, AO, AR, AT, AZ, BA, BB, BG, BH...  \n",
       "4  AU, BA, BG, CZ, HR, HU, MD, ME, MK, NZ, PL, RO...  "
      ]
     },
     "execution_count": 105,
     "metadata": {},
     "output_type": "execute_result"
    }
   ],
   "source": [
    "data_netflix = pd.read_csv('datasets\\data_netflix.csv')\n",
    "data_netflix.head()"
   ]
  },
  {
   "cell_type": "markdown",
   "metadata": {},
   "source": [
    "We can see that all the datasets have the same features: title, type, genres, releaseYear, imdbId, imdbAverageRating, imdbNumVotes, availableCountries. 8 features in total."
   ]
  },
  {
   "cell_type": "code",
   "execution_count": 106,
   "metadata": {},
   "outputs": [
    {
     "name": "stdout",
     "output_type": "stream",
     "text": [
      "amazon (66905, 8)\n",
      "apple (17648, 8)\n",
      "max (7017, 8)\n",
      "netflix (20106, 8)\n"
     ]
    }
   ],
   "source": [
    "print('amazon', data_amazon.shape)\n",
    "print('apple', data_apple.shape)\n",
    "print('max', data_max.shape)\n",
    "print('netflix', data_netflix.shape)"
   ]
  },
  {
   "cell_type": "markdown",
   "metadata": {},
   "source": [
    "We can see that amazon it the platform that has most titles in its streaming platform"
   ]
  },
  {
   "cell_type": "markdown",
   "metadata": {},
   "source": [
    "## Univariate Analysis"
   ]
  },
  {
   "cell_type": "markdown",
   "metadata": {},
   "source": [
    "To help us in the univariate Analysis we will concat all the datasets in only one. Before that we create a new feature that identify the platform for any observation"
   ]
  },
  {
   "cell_type": "code",
   "execution_count": 107,
   "metadata": {},
   "outputs": [],
   "source": [
    "data_amazon['platform'] = 'amazon'\n",
    "data_apple['platform'] = 'apple'\n",
    "data_max['platform'] = 'max'\n",
    "data_netflix['platform'] = 'netflix'"
   ]
  },
  {
   "cell_type": "code",
   "execution_count": 108,
   "metadata": {},
   "outputs": [],
   "source": [
    "data_all_platforms = pd.concat([data_amazon, data_apple, data_max, data_netflix])"
   ]
  },
  {
   "cell_type": "code",
   "execution_count": 109,
   "metadata": {},
   "outputs": [
    {
     "data": {
      "text/plain": [
       "(111676, 9)"
      ]
     },
     "execution_count": 109,
     "metadata": {},
     "output_type": "execute_result"
    }
   ],
   "source": [
    "data_all_platforms.shape"
   ]
  },
  {
   "cell_type": "markdown",
   "metadata": {},
   "source": [
    "### Title"
   ]
  },
  {
   "cell_type": "code",
   "execution_count": 110,
   "metadata": {},
   "outputs": [
    {
     "name": "stdout",
     "output_type": "stream",
     "text": [
      "<class 'pandas.core.series.Series'>\n",
      "Index: 111676 entries, 0 to 20105\n",
      "Series name: title\n",
      "Non-Null Count   Dtype \n",
      "--------------   ----- \n",
      "108701 non-null  object\n",
      "dtypes: object(1)\n",
      "memory usage: 1.7+ MB\n"
     ]
    }
   ],
   "source": [
    "data_all_platforms['title'].info()"
   ]
  },
  {
   "cell_type": "code",
   "execution_count": 111,
   "metadata": {},
   "outputs": [
    {
     "name": "stdout",
     "output_type": "stream",
     "text": [
      "Missing values for title: 2975\n"
     ]
    }
   ],
   "source": [
    "print('Missing values for title:', data_all_platforms['title'].isnull().sum())"
   ]
  },
  {
   "cell_type": "code",
   "execution_count": 112,
   "metadata": {},
   "outputs": [
    {
     "name": "stdout",
     "output_type": "stream",
     "text": [
      "All the diferents titles that we can find in the 4 platforms:  85649\n"
     ]
    }
   ],
   "source": [
    "print('All the diferents titles that we can find in the 4 platforms: ', data_all_platforms['title'].nunique())\n"
   ]
  },
  {
   "cell_type": "code",
   "execution_count": 113,
   "metadata": {},
   "outputs": [
    {
     "name": "stdout",
     "output_type": "stream",
     "text": [
      "Repeated titles: 26026\n"
     ]
    }
   ],
   "source": [
    "print('Repeated titles:', data_all_platforms['title'].duplicated().sum())"
   ]
  },
  {
   "cell_type": "markdown",
   "metadata": {},
   "source": [
    "### Type"
   ]
  },
  {
   "cell_type": "code",
   "execution_count": 114,
   "metadata": {},
   "outputs": [
    {
     "name": "stdout",
     "output_type": "stream",
     "text": [
      "<class 'pandas.core.series.Series'>\n",
      "Index: 111676 entries, 0 to 20105\n",
      "Series name: type\n",
      "Non-Null Count   Dtype \n",
      "--------------   ----- \n",
      "111676 non-null  object\n",
      "dtypes: object(1)\n",
      "memory usage: 1.7+ MB\n"
     ]
    }
   ],
   "source": [
    "data_all_platforms['type'].info()"
   ]
  },
  {
   "cell_type": "code",
   "execution_count": 115,
   "metadata": {},
   "outputs": [
    {
     "name": "stdout",
     "output_type": "stream",
     "text": [
      "List of different types: ['movie' 'tv']\n"
     ]
    }
   ],
   "source": [
    "print('List of different types:', data_all_platforms['type'].unique())"
   ]
  },
  {
   "cell_type": "markdown",
   "metadata": {},
   "source": [
    "We can check that in this dataset we only have 2 types of product, movies and tv shows. "
   ]
  },
  {
   "cell_type": "code",
   "execution_count": 116,
   "metadata": {},
   "outputs": [
    {
     "name": "stdout",
     "output_type": "stream",
     "text": [
      "type\n",
      "movie    91309\n",
      "tv       20367\n",
      "Name: count, dtype: int64\n"
     ]
    }
   ],
   "source": [
    "type_counts = data_all_platforms['type'].value_counts()\n",
    "print(type_counts)"
   ]
  },
  {
   "cell_type": "code",
   "execution_count": 117,
   "metadata": {},
   "outputs": [
    {
     "name": "stdout",
     "output_type": "stream",
     "text": [
      "Proportion between movie and tv: 4.483183581283448\n"
     ]
    }
   ],
   "source": [
    "proportion = type_counts['movie'] / type_counts['tv']\n",
    "print('Proportion between movie and tv:', proportion)"
   ]
  },
  {
   "cell_type": "markdown",
   "metadata": {},
   "source": [
    "### Genres"
   ]
  },
  {
   "cell_type": "code",
   "execution_count": 118,
   "metadata": {},
   "outputs": [
    {
     "name": "stdout",
     "output_type": "stream",
     "text": [
      "<class 'pandas.core.series.Series'>\n",
      "Index: 111676 entries, 0 to 20105\n",
      "Series name: genres\n",
      "Non-Null Count   Dtype \n",
      "--------------   ----- \n",
      "108803 non-null  object\n",
      "dtypes: object(1)\n",
      "memory usage: 1.7+ MB\n"
     ]
    }
   ],
   "source": [
    "data_all_platforms['genres'].info()"
   ]
  },
  {
   "cell_type": "code",
   "execution_count": 119,
   "metadata": {},
   "outputs": [
    {
     "name": "stdout",
     "output_type": "stream",
     "text": [
      "Missing values for genres: 2873\n"
     ]
    }
   ],
   "source": [
    "print('Missing values for genres:', data_all_platforms['genres'].isnull().sum())"
   ]
  },
  {
   "cell_type": "code",
   "execution_count": 120,
   "metadata": {},
   "outputs": [
    {
     "name": "stdout",
     "output_type": "stream",
     "text": [
      "Number of unique genres that we can find in the 4 platforms:  1657\n"
     ]
    }
   ],
   "source": [
    "print('Number of unique genres that we can find in the 4 platforms: ', data_all_platforms['genres'].nunique())"
   ]
  },
  {
   "cell_type": "markdown",
   "metadata": {},
   "source": [
    "This 1657 don't be the real unique genres, this feature is a list of diferents genres, so, in the data wrangling and tidying phase we need to solve it"
   ]
  },
  {
   "cell_type": "markdown",
   "metadata": {},
   "source": [
    "### Release Year"
   ]
  },
  {
   "cell_type": "code",
   "execution_count": 121,
   "metadata": {},
   "outputs": [
    {
     "name": "stdout",
     "output_type": "stream",
     "text": [
      "<class 'pandas.core.series.Series'>\n",
      "Index: 111676 entries, 0 to 20105\n",
      "Series name: releaseYear\n",
      "Non-Null Count   Dtype  \n",
      "--------------   -----  \n",
      "111455 non-null  float64\n",
      "dtypes: float64(1)\n",
      "memory usage: 1.7 MB\n"
     ]
    }
   ],
   "source": [
    "data_all_platforms['releaseYear'].info()"
   ]
  },
  {
   "cell_type": "code",
   "execution_count": 122,
   "metadata": {},
   "outputs": [
    {
     "name": "stdout",
     "output_type": "stream",
     "text": [
      "missing values for releaseYear: 221\n"
     ]
    }
   ],
   "source": [
    "print('missing values for releaseYear:', data_all_platforms['releaseYear'].isnull().sum())"
   ]
  },
  {
   "cell_type": "code",
   "execution_count": 123,
   "metadata": {},
   "outputs": [
    {
     "data": {
      "text/plain": [
       "count    111455.000000\n",
       "mean       2008.480795\n",
       "std          17.928578\n",
       "min        1902.000000\n",
       "25%        2005.000000\n",
       "50%        2015.000000\n",
       "75%        2020.000000\n",
       "max        2026.000000\n",
       "Name: releaseYear, dtype: float64"
      ]
     },
     "execution_count": 123,
     "metadata": {},
     "output_type": "execute_result"
    }
   ],
   "source": [
    "data_all_platforms['releaseYear'].describe()"
   ]
  },
  {
   "cell_type": "markdown",
   "metadata": {},
   "source": [
    "We can see the oldest movie or tv show is dated in 1902, and the most modern is for 2026."
   ]
  },
  {
   "cell_type": "code",
   "execution_count": 124,
   "metadata": {},
   "outputs": [
    {
     "name": "stdout",
     "output_type": "stream",
     "text": [
      "Number of unique release years: 121\n",
      "List of years: [1902.0, 1903.0, 1906.0, 1908.0, 1909.0, 1910.0, 1911.0, 1913.0, 1914.0, 1915.0, 1916.0, 1917.0, 1918.0, 1919.0, 1920.0, 1921.0, 1922.0, 1923.0, 1924.0, 1925.0, 1926.0, 1927.0, 1928.0, 1929.0, 1930.0, 1931.0, 1932.0, 1933.0, 1934.0, 1935.0, 1936.0, 1937.0, 1938.0, 1939.0, 1940.0, 1941.0, 1942.0, 1943.0, 1944.0, 1945.0, 1946.0, 1947.0, 1948.0, 1949.0, 1950.0, 1951.0, 1952.0, 1953.0, 1954.0, 1955.0, 1956.0, 1957.0, 1958.0, 1959.0, 1960.0, 1961.0, 1962.0, 1963.0, 1964.0, 1965.0, 1966.0, 1967.0, 1968.0, 1969.0, 1970.0, 1971.0, 1972.0, 1973.0, 1974.0, 1975.0, 1976.0, 1977.0, 1978.0, 1979.0, 1980.0, 1981.0, 1982.0, 1983.0, 1984.0, 1985.0, 1986.0, 1987.0, 1988.0, 1989.0, 1990.0, 1991.0, 1992.0, 1993.0, 1994.0, 1995.0, 1996.0, 1997.0, 1998.0, 1999.0, 2000.0, 2001.0, 2002.0, 2003.0, 2004.0, 2005.0, 2006.0, 2007.0, 2008.0, 2009.0, 2010.0, 2011.0, 2012.0, 2013.0, 2014.0, 2015.0, 2016.0, 2017.0, 2018.0, 2019.0, 2020.0, 2021.0, 2022.0, 2023.0, 2024.0, nan, 2025.0, 2026.0]\n"
     ]
    }
   ],
   "source": [
    "print('Number of unique release years:', data_all_platforms['releaseYear'].nunique())\n",
    "print('List of years:', sorted(data_all_platforms['releaseYear'].unique()))"
   ]
  },
  {
   "cell_type": "code",
   "execution_count": 125,
   "metadata": {},
   "outputs": [
    {
     "data": {
      "text/plain": [
       "releaseYear\n",
       "2022.0    7495\n",
       "2019.0    6975\n",
       "2021.0    6827\n",
       "2018.0    6588\n",
       "2023.0    6408\n",
       "          ... \n",
       "1911.0       1\n",
       "1908.0       1\n",
       "2026.0       1\n",
       "1903.0       1\n",
       "1909.0       1\n",
       "Name: count, Length: 121, dtype: int64"
      ]
     },
     "execution_count": 125,
     "metadata": {},
     "output_type": "execute_result"
    }
   ],
   "source": [
    "data_all_platforms['releaseYear'].value_counts()"
   ]
  },
  {
   "cell_type": "code",
   "execution_count": 126,
   "metadata": {},
   "outputs": [
    {
     "data": {
      "image/png": "[encoded data removed]",
      "text/plain": [
       "<Figure size 1000x600 with 1 Axes>"
      ]
     },
     "metadata": {},
     "output_type": "display_data"
    }
   ],
   "source": [
    "plt.figure(figsize=(10, 6))\n",
    "plt.hist(data_all_platforms['releaseYear'], bins=range(1900, 2028, 1), color='skyblue', edgecolor='black')\n",
    "plt.title('Distribution of release years')\n",
    "plt.show()"
   ]
  },
  {
   "cell_type": "markdown",
   "metadata": {},
   "source": [
    "We can see a skeewed distribution for the values in the feature releaseYear, the most films and shows included in these platforms were produced after 2000"
   ]
  },
  {
   "cell_type": "markdown",
   "metadata": {},
   "source": [
    "### IMDB Id"
   ]
  },
  {
   "cell_type": "code",
   "execution_count": 127,
   "metadata": {},
   "outputs": [
    {
     "name": "stdout",
     "output_type": "stream",
     "text": [
      "<class 'pandas.core.series.Series'>\n",
      "Index: 111676 entries, 0 to 20105\n",
      "Series name: imdbId\n",
      "Non-Null Count   Dtype \n",
      "--------------   ----- \n",
      "102851 non-null  object\n",
      "dtypes: object(1)\n",
      "memory usage: 1.7+ MB\n"
     ]
    }
   ],
   "source": [
    "data_all_platforms['imdbId'].info()"
   ]
  },
  {
   "cell_type": "code",
   "execution_count": 128,
   "metadata": {},
   "outputs": [
    {
     "name": "stdout",
     "output_type": "stream",
     "text": [
      "Missing values for imdbId: 8825\n"
     ]
    }
   ],
   "source": [
    "print('Missing values for imdbId:', data_all_platforms['imdbId'].isnull().sum())"
   ]
  },
  {
   "cell_type": "code",
   "execution_count": 129,
   "metadata": {},
   "outputs": [
    {
     "name": "stdout",
     "output_type": "stream",
     "text": [
      "The number of unique imdbId: 87359\n"
     ]
    }
   ],
   "source": [
    "print('The number of unique imdbId:', data_all_platforms['imdbId'].nunique())"
   ]
  },
  {
   "cell_type": "markdown",
   "metadata": {},
   "source": [
    "Is strange because in the first moment I could thing that the values of missings and unique values would be similar than title, but not, in the EDA analysis we will dive more deeply in this question"
   ]
  },
  {
   "cell_type": "markdown",
   "metadata": {},
   "source": [
    "### IMDB Average Rating"
   ]
  },
  {
   "cell_type": "code",
   "execution_count": 130,
   "metadata": {},
   "outputs": [
    {
     "name": "stdout",
     "output_type": "stream",
     "text": [
      "<class 'pandas.core.series.Series'>\n",
      "Index: 111676 entries, 0 to 20105\n",
      "Series name: imdbAverageRating\n",
      "Non-Null Count   Dtype  \n",
      "--------------   -----  \n",
      "100089 non-null  float64\n",
      "dtypes: float64(1)\n",
      "memory usage: 1.7 MB\n"
     ]
    }
   ],
   "source": [
    "data_all_platforms['imdbAverageRating'].info()"
   ]
  },
  {
   "cell_type": "code",
   "execution_count": 131,
   "metadata": {},
   "outputs": [
    {
     "name": "stdout",
     "output_type": "stream",
     "text": [
      "Missing values for imdbAverageRating: 11587\n"
     ]
    }
   ],
   "source": [
    "print('Missing values for imdbAverageRating:', data_all_platforms['imdbAverageRating'].isnull().sum())"
   ]
  },
  {
   "cell_type": "code",
   "execution_count": 132,
   "metadata": {},
   "outputs": [
    {
     "data": {
      "text/plain": [
       "count    100089.000000\n",
       "mean          6.148958\n",
       "std           1.298042\n",
       "min           1.000000\n",
       "25%           5.400000\n",
       "50%           6.300000\n",
       "75%           7.100000\n",
       "max           9.900000\n",
       "Name: imdbAverageRating, dtype: float64"
      ]
     },
     "execution_count": 132,
     "metadata": {},
     "output_type": "execute_result"
    }
   ],
   "source": [
    "data_all_platforms['imdbAverageRating'].describe()"
   ]
  },
  {
   "cell_type": "code",
   "execution_count": 133,
   "metadata": {},
   "outputs": [
    {
     "data": {
      "image/png": "[encoded data removed]",
      "text/plain": [
       "<Figure size 1000x600 with 1 Axes>"
      ]
     },
     "metadata": {},
     "output_type": "display_data"
    }
   ],
   "source": [
    "plt.figure(figsize=(10, 6))\n",
    "plt.hist(data_all_platforms['imdbAverageRating'], bins=range(0, 11, 1), color='skyblue', edgecolor='black')\n",
    "plt.title('Distribution of IMDb average ratings')\n",
    "plt.show()"
   ]
  },
  {
   "cell_type": "markdown",
   "metadata": {},
   "source": [
    "We can see a normal distribution around the imdb ratings, no surprises, this has all the sense."
   ]
  },
  {
   "cell_type": "markdown",
   "metadata": {},
   "source": [
    "### IMDB Num Votes"
   ]
  },
  {
   "cell_type": "code",
   "execution_count": 134,
   "metadata": {},
   "outputs": [
    {
     "name": "stdout",
     "output_type": "stream",
     "text": [
      "<class 'pandas.core.series.Series'>\n",
      "Index: 111676 entries, 0 to 20105\n",
      "Series name: imdbNumVotes\n",
      "Non-Null Count   Dtype  \n",
      "--------------   -----  \n",
      "100089 non-null  float64\n",
      "dtypes: float64(1)\n",
      "memory usage: 1.7 MB\n"
     ]
    }
   ],
   "source": [
    "data_all_platforms['imdbNumVotes'].info()"
   ]
  },
  {
   "cell_type": "code",
   "execution_count": 135,
   "metadata": {},
   "outputs": [
    {
     "name": "stdout",
     "output_type": "stream",
     "text": [
      "missing values for imdbNumVotes: 11587\n"
     ]
    }
   ],
   "source": [
    "print('missing values for imdbNumVotes:', data_all_platforms['imdbNumVotes'].isnull().sum())"
   ]
  },
  {
   "cell_type": "code",
   "execution_count": 136,
   "metadata": {},
   "outputs": [
    {
     "data": {
      "text/plain": [
       "count    1.000890e+05\n",
       "mean     2.175906e+04\n",
       "std      9.911465e+04\n",
       "min      5.000000e+00\n",
       "25%      1.440000e+02\n",
       "50%      7.100000e+02\n",
       "75%      4.390000e+03\n",
       "max      2.959184e+06\n",
       "Name: imdbNumVotes, dtype: float64"
      ]
     },
     "execution_count": 136,
     "metadata": {},
     "output_type": "execute_result"
    }
   ],
   "source": [
    "data_all_platforms['imdbNumVotes'].describe()"
   ]
  },
  {
   "cell_type": "code",
   "execution_count": 137,
   "metadata": {},
   "outputs": [
    {
     "data": {
      "image/png": "[encoded data removed]",
      "text/plain": [
       "<Figure size 1000x600 with 1 Axes>"
      ]
     },
     "metadata": {},
     "output_type": "display_data"
    }
   ],
   "source": [
    "plt.figure(figsize=(10, 6))\n",
    "plt.hist(data_all_platforms['imdbNumVotes'], bins=range(0, 100000, 1000), color='skyblue', edgecolor='black')\n",
    "plt.title('Distribution of IMDb number of votes')\n",
    "plt.xlabel('Number of votes')\n",
    "plt.ylabel('Number of titles')\n",
    "plt.show()"
   ]
  },
  {
   "cell_type": "markdown",
   "metadata": {},
   "source": [
    "We can see a skeewed histogram, when the most part of the tv show and movies don't have votes or they have a few."
   ]
  },
  {
   "cell_type": "markdown",
   "metadata": {},
   "source": [
    "### Available Countries"
   ]
  },
  {
   "cell_type": "code",
   "execution_count": 138,
   "metadata": {},
   "outputs": [
    {
     "name": "stdout",
     "output_type": "stream",
     "text": [
      "<class 'pandas.core.series.Series'>\n",
      "Index: 111676 entries, 0 to 20105\n",
      "Series name: availableCountries\n",
      "Non-Null Count   Dtype \n",
      "--------------   ----- \n",
      "111676 non-null  object\n",
      "dtypes: object(1)\n",
      "memory usage: 1.7+ MB\n"
     ]
    }
   ],
   "source": [
    "data_all_platforms['availableCountries'].info()"
   ]
  },
  {
   "cell_type": "code",
   "execution_count": 139,
   "metadata": {},
   "outputs": [
    {
     "name": "stdout",
     "output_type": "stream",
     "text": [
      "Number of unique available countries: 19564\n"
     ]
    }
   ],
   "source": [
    "print('Number of unique available countries:', data_all_platforms['availableCountries'].nunique())"
   ]
  },
  {
   "cell_type": "markdown",
   "metadata": {},
   "source": [
    "We need to understand that the values of this feature are a list of values, this 19564 are combinations of countries. When we will transformig the data we will solve this problem."
   ]
  },
  {
   "cell_type": "markdown",
   "metadata": {},
   "source": [
    "# Data Wrangling and Tidying"
   ]
  },
  {
   "cell_type": "markdown",
   "metadata": {},
   "source": [
    "## Missing Data"
   ]
  },
  {
   "cell_type": "code",
   "execution_count": 140,
   "metadata": {},
   "outputs": [
    {
     "name": "stdout",
     "output_type": "stream",
     "text": [
      "<class 'pandas.core.frame.DataFrame'>\n",
      "Index: 111676 entries, 0 to 20105\n",
      "Data columns (total 9 columns):\n",
      " #   Column              Non-Null Count   Dtype  \n",
      "---  ------              --------------   -----  \n",
      " 0   title               108701 non-null  object \n",
      " 1   type                111676 non-null  object \n",
      " 2   genres              108803 non-null  object \n",
      " 3   releaseYear         111455 non-null  float64\n",
      " 4   imdbId              102851 non-null  object \n",
      " 5   imdbAverageRating   100089 non-null  float64\n",
      " 6   imdbNumVotes        100089 non-null  float64\n",
      " 7   availableCountries  111676 non-null  object \n",
      " 8   platform            111676 non-null  object \n",
      "dtypes: float64(3), object(6)\n",
      "memory usage: 8.5+ MB\n"
     ]
    }
   ],
   "source": [
    "data_all_platforms.info()"
   ]
  },
  {
   "cell_type": "code",
   "execution_count": 141,
   "metadata": {},
   "outputs": [
    {
     "name": "stdout",
     "output_type": "stream",
     "text": [
      "Missing data in the dataset: title                 0.026640\n",
      "type                  0.000000\n",
      "genres                0.025726\n",
      "releaseYear           0.001979\n",
      "imdbId                0.079023\n",
      "imdbAverageRating     0.103756\n",
      "imdbNumVotes          0.103756\n",
      "availableCountries    0.000000\n",
      "platform              0.000000\n",
      "dtype: float64\n"
     ]
    }
   ],
   "source": [
    "print('Missing data in the dataset:', data_all_platforms.isnull().sum()/len(data_all_platforms))"
   ]
  },
  {
   "cell_type": "markdown",
   "metadata": {},
   "source": [
    "### Genre"
   ]
  },
  {
   "cell_type": "markdown",
   "metadata": {},
   "source": [
    "We have a 2.5% of missing values, it's a relative little number of missings. Let's see what type of missing values there are (MCAR, MAR, MNAR)"
   ]
  },
  {
   "cell_type": "code",
   "execution_count": 142,
   "metadata": {},
   "outputs": [
    {
     "data": {
      "text/html": [
       "<div>\n",
       "<style scoped>\n",
       "    .dataframe tbody tr th:only-of-type {\n",
       "        vertical-align: middle;\n",
       "    }\n",
       "\n",
       "    .dataframe tbody tr th {\n",
       "        vertical-align: top;\n",
       "    }\n",
       "\n",
       "    .dataframe thead th {\n",
       "        text-align: right;\n",
       "    }\n",
       "</style>\n",
       "<table border=\"1\" class=\"dataframe\">\n",
       "  <thead>\n",
       "    <tr style=\"text-align: right;\">\n",
       "      <th></th>\n",
       "      <th>title</th>\n",
       "      <th>type</th>\n",
       "      <th>genres</th>\n",
       "      <th>releaseYear</th>\n",
       "      <th>imdbId</th>\n",
       "      <th>imdbAverageRating</th>\n",
       "      <th>imdbNumVotes</th>\n",
       "      <th>availableCountries</th>\n",
       "      <th>platform</th>\n",
       "    </tr>\n",
       "  </thead>\n",
       "  <tbody>\n",
       "    <tr>\n",
       "      <th>4784</th>\n",
       "      <td>A Aa E Ee</td>\n",
       "      <td>movie</td>\n",
       "      <td>NaN</td>\n",
       "      <td>2009.0</td>\n",
       "      <td>NaN</td>\n",
       "      <td>NaN</td>\n",
       "      <td>NaN</td>\n",
       "      <td>DK, FI, IN, IS, NO, SE</td>\n",
       "      <td>amazon</td>\n",
       "    </tr>\n",
       "    <tr>\n",
       "      <th>6913</th>\n",
       "      <td>Divinyls Live</td>\n",
       "      <td>movie</td>\n",
       "      <td>NaN</td>\n",
       "      <td>1993.0</td>\n",
       "      <td>NaN</td>\n",
       "      <td>NaN</td>\n",
       "      <td>NaN</td>\n",
       "      <td>AU</td>\n",
       "      <td>amazon</td>\n",
       "    </tr>\n",
       "    <tr>\n",
       "      <th>8480</th>\n",
       "      <td>Lost in the Dark</td>\n",
       "      <td>movie</td>\n",
       "      <td>NaN</td>\n",
       "      <td>2007.0</td>\n",
       "      <td>NaN</td>\n",
       "      <td>NaN</td>\n",
       "      <td>NaN</td>\n",
       "      <td>US</td>\n",
       "      <td>amazon</td>\n",
       "    </tr>\n",
       "    <tr>\n",
       "      <th>8799</th>\n",
       "      <td>Siste trikk</td>\n",
       "      <td>movie</td>\n",
       "      <td>NaN</td>\n",
       "      <td>2024.0</td>\n",
       "      <td>NaN</td>\n",
       "      <td>NaN</td>\n",
       "      <td>NaN</td>\n",
       "      <td>AT, DE</td>\n",
       "      <td>amazon</td>\n",
       "    </tr>\n",
       "    <tr>\n",
       "      <th>9019</th>\n",
       "      <td>El Arte De La Guerra</td>\n",
       "      <td>movie</td>\n",
       "      <td>NaN</td>\n",
       "      <td>2024.0</td>\n",
       "      <td>NaN</td>\n",
       "      <td>NaN</td>\n",
       "      <td>NaN</td>\n",
       "      <td>IN</td>\n",
       "      <td>amazon</td>\n",
       "    </tr>\n",
       "    <tr>\n",
       "      <th>...</th>\n",
       "      <td>...</td>\n",
       "      <td>...</td>\n",
       "      <td>...</td>\n",
       "      <td>...</td>\n",
       "      <td>...</td>\n",
       "      <td>...</td>\n",
       "      <td>...</td>\n",
       "      <td>...</td>\n",
       "      <td>...</td>\n",
       "    </tr>\n",
       "    <tr>\n",
       "      <th>20070</th>\n",
       "      <td>NaN</td>\n",
       "      <td>tv</td>\n",
       "      <td>NaN</td>\n",
       "      <td>2024.0</td>\n",
       "      <td>NaN</td>\n",
       "      <td>NaN</td>\n",
       "      <td>NaN</td>\n",
       "      <td>US</td>\n",
       "      <td>netflix</td>\n",
       "    </tr>\n",
       "    <tr>\n",
       "      <th>20081</th>\n",
       "      <td>NaN</td>\n",
       "      <td>tv</td>\n",
       "      <td>NaN</td>\n",
       "      <td>2024.0</td>\n",
       "      <td>NaN</td>\n",
       "      <td>NaN</td>\n",
       "      <td>NaN</td>\n",
       "      <td>JP</td>\n",
       "      <td>netflix</td>\n",
       "    </tr>\n",
       "    <tr>\n",
       "      <th>20102</th>\n",
       "      <td>NaN</td>\n",
       "      <td>tv</td>\n",
       "      <td>NaN</td>\n",
       "      <td>2024.0</td>\n",
       "      <td>NaN</td>\n",
       "      <td>NaN</td>\n",
       "      <td>NaN</td>\n",
       "      <td>HK, ID, IN, KR, MY, PH, SG, TH</td>\n",
       "      <td>netflix</td>\n",
       "    </tr>\n",
       "    <tr>\n",
       "      <th>20103</th>\n",
       "      <td>NaN</td>\n",
       "      <td>tv</td>\n",
       "      <td>NaN</td>\n",
       "      <td>2024.0</td>\n",
       "      <td>NaN</td>\n",
       "      <td>NaN</td>\n",
       "      <td>NaN</td>\n",
       "      <td>AL, AO, AU, AZ, BA, BB, BG, BM, BS, BY, BZ, CA...</td>\n",
       "      <td>netflix</td>\n",
       "    </tr>\n",
       "    <tr>\n",
       "      <th>20104</th>\n",
       "      <td>NaN</td>\n",
       "      <td>tv</td>\n",
       "      <td>NaN</td>\n",
       "      <td>NaN</td>\n",
       "      <td>NaN</td>\n",
       "      <td>NaN</td>\n",
       "      <td>NaN</td>\n",
       "      <td>AG, AO, AR, AU, BB, BM, BO, BS, BZ, CA, CI, CL...</td>\n",
       "      <td>netflix</td>\n",
       "    </tr>\n",
       "  </tbody>\n",
       "</table>\n",
       "<p>2873 rows × 9 columns</p>\n",
       "</div>"
      ],
      "text/plain": [
       "                      title   type genres  releaseYear imdbId  \\\n",
       "4784              A Aa E Ee  movie    NaN       2009.0    NaN   \n",
       "6913          Divinyls Live  movie    NaN       1993.0    NaN   \n",
       "8480       Lost in the Dark  movie    NaN       2007.0    NaN   \n",
       "8799            Siste trikk  movie    NaN       2024.0    NaN   \n",
       "9019   El Arte De La Guerra  movie    NaN       2024.0    NaN   \n",
       "...                     ...    ...    ...          ...    ...   \n",
       "20070                   NaN     tv    NaN       2024.0    NaN   \n",
       "20081                   NaN     tv    NaN       2024.0    NaN   \n",
       "20102                   NaN     tv    NaN       2024.0    NaN   \n",
       "20103                   NaN     tv    NaN       2024.0    NaN   \n",
       "20104                   NaN     tv    NaN          NaN    NaN   \n",
       "\n",
       "       imdbAverageRating  imdbNumVotes  \\\n",
       "4784                 NaN           NaN   \n",
       "6913                 NaN           NaN   \n",
       "8480                 NaN           NaN   \n",
       "8799                 NaN           NaN   \n",
       "9019                 NaN           NaN   \n",
       "...                  ...           ...   \n",
       "20070                NaN           NaN   \n",
       "20081                NaN           NaN   \n",
       "20102                NaN           NaN   \n",
       "20103                NaN           NaN   \n",
       "20104                NaN           NaN   \n",
       "\n",
       "                                      availableCountries platform  \n",
       "4784                              DK, FI, IN, IS, NO, SE   amazon  \n",
       "6913                                                  AU   amazon  \n",
       "8480                                                  US   amazon  \n",
       "8799                                              AT, DE   amazon  \n",
       "9019                                                  IN   amazon  \n",
       "...                                                  ...      ...  \n",
       "20070                                                 US  netflix  \n",
       "20081                                                 JP  netflix  \n",
       "20102                     HK, ID, IN, KR, MY, PH, SG, TH  netflix  \n",
       "20103  AL, AO, AU, AZ, BA, BB, BG, BM, BS, BY, BZ, CA...  netflix  \n",
       "20104  AG, AO, AR, AU, BB, BM, BO, BS, BZ, CA, CI, CL...  netflix  \n",
       "\n",
       "[2873 rows x 9 columns]"
      ]
     },
     "execution_count": 142,
     "metadata": {},
     "output_type": "execute_result"
    }
   ],
   "source": [
    "missing_genre = data_all_platforms[data_all_platforms['genres'].isnull()]\n",
    "missing_genre"
   ]
  },
  {
   "cell_type": "code",
   "execution_count": 143,
   "metadata": {},
   "outputs": [
    {
     "data": {
      "text/plain": [
       "title                 0.354682\n",
       "type                  0.000000\n",
       "genres                1.000000\n",
       "releaseYear           0.051862\n",
       "imdbId                0.916464\n",
       "imdbAverageRating     0.948138\n",
       "imdbNumVotes          0.948138\n",
       "availableCountries    0.000000\n",
       "platform              0.000000\n",
       "dtype: float64"
      ]
     },
     "execution_count": 143,
     "metadata": {},
     "output_type": "execute_result"
    }
   ],
   "source": [
    "missing_genre.isnull().sum()/len(missing_genre)"
   ]
  },
  {
   "cell_type": "markdown",
   "metadata": {},
   "source": [
    "We can check that all the missing genre values also have a high quantity of missing values in imdbId, imdbAverageRating and imdbNumVotes. Also have a 35% title missing. I thing that this value is MCAR and we can drop all the missing values beucase also clean other features."
   ]
  },
  {
   "cell_type": "code",
   "execution_count": 149,
   "metadata": {},
   "outputs": [
    {
     "name": "stdout",
     "output_type": "stream",
     "text": [
      "Missing data in the dataset: title                 0.017977\n",
      "type                  0.000000\n",
      "genres                0.000000\n",
      "releaseYear           0.000662\n",
      "imdbId                0.056910\n",
      "imdbAverageRating     0.081459\n",
      "imdbNumVotes          0.081459\n",
      "availableCountries    0.000000\n",
      "platform              0.000000\n",
      "dtype: float64\n"
     ]
    }
   ],
   "source": [
    "# Drop rows with missing values in the 'genres' column\n",
    "data_all_platforms = data_all_platforms.dropna(subset=['genres'])\n",
    "print('Missing data in the dataset:', data_all_platforms.isnull().sum()/len(data_all_platforms))"
   ]
  },
  {
   "cell_type": "markdown",
   "metadata": {},
   "source": [
    "### Release Year"
   ]
  },
  {
   "cell_type": "code",
   "execution_count": 153,
   "metadata": {},
   "outputs": [
    {
     "name": "stdout",
     "output_type": "stream",
     "text": [
      "The percentatge of missing values for releaseYear is:  0.06617464591968972\n",
      "The number of missing values for releaseYear is:  72\n"
     ]
    }
   ],
   "source": [
    "print('The percentatge of missing values for releaseYear is: ', (data_all_platforms['releaseYear'].isnull().sum()/len(data_all_platforms))*100)\n",
    "print('The number of missing values for releaseYear is: ', data_all_platforms['releaseYear'].isnull().sum())"
   ]
  },
  {
   "cell_type": "code",
   "execution_count": 154,
   "metadata": {},
   "outputs": [
    {
     "data": {
      "text/html": [
       "<div>\n",
       "<style scoped>\n",
       "    .dataframe tbody tr th:only-of-type {\n",
       "        vertical-align: middle;\n",
       "    }\n",
       "\n",
       "    .dataframe tbody tr th {\n",
       "        vertical-align: top;\n",
       "    }\n",
       "\n",
       "    .dataframe thead th {\n",
       "        text-align: right;\n",
       "    }\n",
       "</style>\n",
       "<table border=\"1\" class=\"dataframe\">\n",
       "  <thead>\n",
       "    <tr style=\"text-align: right;\">\n",
       "      <th></th>\n",
       "      <th>title</th>\n",
       "      <th>type</th>\n",
       "      <th>genres</th>\n",
       "      <th>releaseYear</th>\n",
       "      <th>imdbId</th>\n",
       "      <th>imdbAverageRating</th>\n",
       "      <th>imdbNumVotes</th>\n",
       "      <th>availableCountries</th>\n",
       "      <th>platform</th>\n",
       "    </tr>\n",
       "  </thead>\n",
       "  <tbody>\n",
       "    <tr>\n",
       "      <th>35443</th>\n",
       "      <td>Tom Mabe: Dysfunction Junction</td>\n",
       "      <td>movie</td>\n",
       "      <td>Comedy</td>\n",
       "      <td>NaN</td>\n",
       "      <td>NaN</td>\n",
       "      <td>NaN</td>\n",
       "      <td>NaN</td>\n",
       "      <td>CM, GB, GG, GH, IE, KE, NG, UG, ZA</td>\n",
       "      <td>amazon</td>\n",
       "    </tr>\n",
       "    <tr>\n",
       "      <th>35719</th>\n",
       "      <td>Scott Novotny: A Trip to Goofyville</td>\n",
       "      <td>movie</td>\n",
       "      <td>Comedy</td>\n",
       "      <td>NaN</td>\n",
       "      <td>NaN</td>\n",
       "      <td>NaN</td>\n",
       "      <td>NaN</td>\n",
       "      <td>CM, GH, IE, KE, NG, UG, ZA</td>\n",
       "      <td>amazon</td>\n",
       "    </tr>\n",
       "    <tr>\n",
       "      <th>36294</th>\n",
       "      <td>Brian Moote: Getting Schooled</td>\n",
       "      <td>movie</td>\n",
       "      <td>Comedy</td>\n",
       "      <td>NaN</td>\n",
       "      <td>NaN</td>\n",
       "      <td>NaN</td>\n",
       "      <td>NaN</td>\n",
       "      <td>CM, GB, GG, GH, IE, KE, NG, UG, ZA</td>\n",
       "      <td>amazon</td>\n",
       "    </tr>\n",
       "    <tr>\n",
       "      <th>39505</th>\n",
       "      <td>Mark Poolos: One wife, two daughters, and zero...</td>\n",
       "      <td>movie</td>\n",
       "      <td>Documentary, Comedy</td>\n",
       "      <td>NaN</td>\n",
       "      <td>NaN</td>\n",
       "      <td>NaN</td>\n",
       "      <td>NaN</td>\n",
       "      <td>CM, GH, IE, KE, NG, UG, ZA</td>\n",
       "      <td>amazon</td>\n",
       "    </tr>\n",
       "    <tr>\n",
       "      <th>40208</th>\n",
       "      <td>Most Dangerous Game</td>\n",
       "      <td>movie</td>\n",
       "      <td>Comedy</td>\n",
       "      <td>NaN</td>\n",
       "      <td>tt10274176</td>\n",
       "      <td>NaN</td>\n",
       "      <td>NaN</td>\n",
       "      <td>AD, AG, AL, AO, AR, AT, AU, BA, BB, BE, BF, BH...</td>\n",
       "      <td>amazon</td>\n",
       "    </tr>\n",
       "    <tr>\n",
       "      <th>...</th>\n",
       "      <td>...</td>\n",
       "      <td>...</td>\n",
       "      <td>...</td>\n",
       "      <td>...</td>\n",
       "      <td>...</td>\n",
       "      <td>...</td>\n",
       "      <td>...</td>\n",
       "      <td>...</td>\n",
       "      <td>...</td>\n",
       "    </tr>\n",
       "    <tr>\n",
       "      <th>19385</th>\n",
       "      <td>NaN</td>\n",
       "      <td>tv</td>\n",
       "      <td>Drama, Crime, Mystery</td>\n",
       "      <td>NaN</td>\n",
       "      <td>NaN</td>\n",
       "      <td>NaN</td>\n",
       "      <td>NaN</td>\n",
       "      <td>CA</td>\n",
       "      <td>netflix</td>\n",
       "    </tr>\n",
       "    <tr>\n",
       "      <th>19661</th>\n",
       "      <td>NaN</td>\n",
       "      <td>tv</td>\n",
       "      <td>Animation</td>\n",
       "      <td>NaN</td>\n",
       "      <td>NaN</td>\n",
       "      <td>NaN</td>\n",
       "      <td>NaN</td>\n",
       "      <td>AD, AE, AG, AL, AO, AR, AT, AU, BA, BB, BE, BG...</td>\n",
       "      <td>netflix</td>\n",
       "    </tr>\n",
       "    <tr>\n",
       "      <th>19798</th>\n",
       "      <td>NaN</td>\n",
       "      <td>tv</td>\n",
       "      <td>Action &amp; Adventure</td>\n",
       "      <td>NaN</td>\n",
       "      <td>NaN</td>\n",
       "      <td>NaN</td>\n",
       "      <td>NaN</td>\n",
       "      <td>KR</td>\n",
       "      <td>netflix</td>\n",
       "    </tr>\n",
       "    <tr>\n",
       "      <th>19997</th>\n",
       "      <td>NaN</td>\n",
       "      <td>tv</td>\n",
       "      <td>Drama</td>\n",
       "      <td>NaN</td>\n",
       "      <td>NaN</td>\n",
       "      <td>NaN</td>\n",
       "      <td>NaN</td>\n",
       "      <td>AD, AE, AG, AL, AO, AR, AT, AU, AZ, BA, BB, BE...</td>\n",
       "      <td>netflix</td>\n",
       "    </tr>\n",
       "    <tr>\n",
       "      <th>20101</th>\n",
       "      <td>NaN</td>\n",
       "      <td>tv</td>\n",
       "      <td>Drama, Mystery</td>\n",
       "      <td>NaN</td>\n",
       "      <td>NaN</td>\n",
       "      <td>NaN</td>\n",
       "      <td>NaN</td>\n",
       "      <td>AD, AE, AG, AL, AO, AR, AT, AU, AZ, BA, BB, BE...</td>\n",
       "      <td>netflix</td>\n",
       "    </tr>\n",
       "  </tbody>\n",
       "</table>\n",
       "<p>72 rows × 9 columns</p>\n",
       "</div>"
      ],
      "text/plain": [
       "                                                   title   type  \\\n",
       "35443                     Tom Mabe: Dysfunction Junction  movie   \n",
       "35719                Scott Novotny: A Trip to Goofyville  movie   \n",
       "36294                      Brian Moote: Getting Schooled  movie   \n",
       "39505  Mark Poolos: One wife, two daughters, and zero...  movie   \n",
       "40208                                Most Dangerous Game  movie   \n",
       "...                                                  ...    ...   \n",
       "19385                                                NaN     tv   \n",
       "19661                                                NaN     tv   \n",
       "19798                                                NaN     tv   \n",
       "19997                                                NaN     tv   \n",
       "20101                                                NaN     tv   \n",
       "\n",
       "                      genres  releaseYear      imdbId  imdbAverageRating  \\\n",
       "35443                 Comedy          NaN         NaN                NaN   \n",
       "35719                 Comedy          NaN         NaN                NaN   \n",
       "36294                 Comedy          NaN         NaN                NaN   \n",
       "39505    Documentary, Comedy          NaN         NaN                NaN   \n",
       "40208                 Comedy          NaN  tt10274176                NaN   \n",
       "...                      ...          ...         ...                ...   \n",
       "19385  Drama, Crime, Mystery          NaN         NaN                NaN   \n",
       "19661              Animation          NaN         NaN                NaN   \n",
       "19798     Action & Adventure          NaN         NaN                NaN   \n",
       "19997                  Drama          NaN         NaN                NaN   \n",
       "20101         Drama, Mystery          NaN         NaN                NaN   \n",
       "\n",
       "       imdbNumVotes                                 availableCountries  \\\n",
       "35443           NaN                 CM, GB, GG, GH, IE, KE, NG, UG, ZA   \n",
       "35719           NaN                         CM, GH, IE, KE, NG, UG, ZA   \n",
       "36294           NaN                 CM, GB, GG, GH, IE, KE, NG, UG, ZA   \n",
       "39505           NaN                         CM, GH, IE, KE, NG, UG, ZA   \n",
       "40208           NaN  AD, AG, AL, AO, AR, AT, AU, BA, BB, BE, BF, BH...   \n",
       "...             ...                                                ...   \n",
       "19385           NaN                                                 CA   \n",
       "19661           NaN  AD, AE, AG, AL, AO, AR, AT, AU, BA, BB, BE, BG...   \n",
       "19798           NaN                                                 KR   \n",
       "19997           NaN  AD, AE, AG, AL, AO, AR, AT, AU, AZ, BA, BB, BE...   \n",
       "20101           NaN  AD, AE, AG, AL, AO, AR, AT, AU, AZ, BA, BB, BE...   \n",
       "\n",
       "      platform  \n",
       "35443   amazon  \n",
       "35719   amazon  \n",
       "36294   amazon  \n",
       "39505   amazon  \n",
       "40208   amazon  \n",
       "...        ...  \n",
       "19385  netflix  \n",
       "19661  netflix  \n",
       "19798  netflix  \n",
       "19997  netflix  \n",
       "20101  netflix  \n",
       "\n",
       "[72 rows x 9 columns]"
      ]
     },
     "execution_count": 154,
     "metadata": {},
     "output_type": "execute_result"
    }
   ],
   "source": [
    "missing_releaseYear = data_all_platforms[data_all_platforms['releaseYear'].isnull()]\n",
    "missing_releaseYear"
   ]
  },
  {
   "cell_type": "code",
   "execution_count": 155,
   "metadata": {},
   "outputs": [
    {
     "data": {
      "text/plain": [
       "title                 0.680556\n",
       "type                  0.000000\n",
       "genres                0.000000\n",
       "releaseYear           1.000000\n",
       "imdbId                0.902778\n",
       "imdbAverageRating     1.000000\n",
       "imdbNumVotes          1.000000\n",
       "availableCountries    0.000000\n",
       "platform              0.000000\n",
       "dtype: float64"
      ]
     },
     "execution_count": 155,
     "metadata": {},
     "output_type": "execute_result"
    }
   ],
   "source": [
    "missing_releaseYear.isnull().sum()/len(missing_releaseYear)"
   ]
  },
  {
   "cell_type": "markdown",
   "metadata": {},
   "source": [
    "Is the same case that genre, seems to be a MCAR missing type, we proceded to drop all the missing values "
   ]
  },
  {
   "cell_type": "code",
   "execution_count": 157,
   "metadata": {},
   "outputs": [
    {
     "name": "stdout",
     "output_type": "stream",
     "text": [
      "Missing data in the dataset: title                 0.017539\n",
      "type                  0.000000\n",
      "genres                0.000000\n",
      "releaseYear           0.000000\n",
      "imdbId                0.056350\n",
      "imdbAverageRating     0.080851\n",
      "imdbNumVotes          0.080851\n",
      "availableCountries    0.000000\n",
      "platform              0.000000\n",
      "dtype: float64\n"
     ]
    }
   ],
   "source": [
    "data_all_platforms = data_all_platforms.dropna(subset=['releaseYear'])\n",
    "print('Missing data in the dataset:', data_all_platforms.isnull().sum()/len(data_all_platforms))"
   ]
  },
  {
   "cell_type": "markdown",
   "metadata": {},
   "source": [
    "### imdbID"
   ]
  },
  {
   "cell_type": "code",
   "execution_count": 159,
   "metadata": {},
   "outputs": [
    {
     "name": "stdout",
     "output_type": "stream",
     "text": [
      "The percentatge of missing values for releaseYear is:  5.635007495562443\n",
      "The number of missing values for releaseYear is:  6127\n"
     ]
    }
   ],
   "source": [
    "print('The percentatge of missing values for releaseYear is: ', (data_all_platforms['imdbId'].isnull().sum()/len(data_all_platforms))*100)\n",
    "print('The number of missing values for releaseYear is: ', data_all_platforms['imdbId'].isnull().sum())"
   ]
  },
  {
   "cell_type": "markdown",
   "metadata": {},
   "source": [
    "This feature doesn't have any importance for this analysis, we can drop the column"
   ]
  },
  {
   "cell_type": "code",
   "execution_count": 162,
   "metadata": {},
   "outputs": [
    {
     "name": "stdout",
     "output_type": "stream",
     "text": [
      "Missing data in the dataset: title                 0.017539\n",
      "type                  0.000000\n",
      "genres                0.000000\n",
      "releaseYear           0.000000\n",
      "imdbAverageRating     0.080851\n",
      "imdbNumVotes          0.080851\n",
      "availableCountries    0.000000\n",
      "platform              0.000000\n",
      "dtype: float64\n"
     ]
    }
   ],
   "source": [
    "data_all_platforms = data_all_platforms.drop('imdbId', axis=1)\n",
    "print('Missing data in the dataset:', data_all_platforms.isnull().sum()/len(data_all_platforms))"
   ]
  },
  {
   "cell_type": "markdown",
   "metadata": {},
   "source": [
    "### imdbAverageRating & imdbAverageRating"
   ]
  },
  {
   "cell_type": "code",
   "execution_count": 163,
   "metadata": {},
   "outputs": [
    {
     "name": "stdout",
     "output_type": "stream",
     "text": [
      "The percentatge of missing values for releaseYear is:  8.085090728495095\n",
      "The number of missing values for releaseYear is:  8791\n"
     ]
    }
   ],
   "source": [
    "print('The percentatge of missing values for releaseYear is: ', (data_all_platforms['imdbAverageRating'].isnull().sum()/len(data_all_platforms))*100)\n",
    "print('The number of missing values for releaseYear is: ', data_all_platforms['imdbAverageRating'].isnull().sum())"
   ]
  },
  {
   "cell_type": "code",
   "execution_count": 164,
   "metadata": {},
   "outputs": [
    {
     "data": {
      "text/html": [
       "<div>\n",
       "<style scoped>\n",
       "    .dataframe tbody tr th:only-of-type {\n",
       "        vertical-align: middle;\n",
       "    }\n",
       "\n",
       "    .dataframe tbody tr th {\n",
       "        vertical-align: top;\n",
       "    }\n",
       "\n",
       "    .dataframe thead th {\n",
       "        text-align: right;\n",
       "    }\n",
       "</style>\n",
       "<table border=\"1\" class=\"dataframe\">\n",
       "  <thead>\n",
       "    <tr style=\"text-align: right;\">\n",
       "      <th></th>\n",
       "      <th>title</th>\n",
       "      <th>type</th>\n",
       "      <th>genres</th>\n",
       "      <th>releaseYear</th>\n",
       "      <th>imdbAverageRating</th>\n",
       "      <th>imdbNumVotes</th>\n",
       "      <th>availableCountries</th>\n",
       "      <th>platform</th>\n",
       "    </tr>\n",
       "  </thead>\n",
       "  <tbody>\n",
       "    <tr>\n",
       "      <th>1319</th>\n",
       "      <td>Rounds</td>\n",
       "      <td>movie</td>\n",
       "      <td>Short</td>\n",
       "      <td>2007.0</td>\n",
       "      <td>NaN</td>\n",
       "      <td>NaN</td>\n",
       "      <td>NZ</td>\n",
       "      <td>amazon</td>\n",
       "    </tr>\n",
       "    <tr>\n",
       "      <th>2874</th>\n",
       "      <td>Futureproof</td>\n",
       "      <td>movie</td>\n",
       "      <td>Short</td>\n",
       "      <td>2005.0</td>\n",
       "      <td>NaN</td>\n",
       "      <td>NaN</td>\n",
       "      <td>AU</td>\n",
       "      <td>amazon</td>\n",
       "    </tr>\n",
       "    <tr>\n",
       "      <th>3289</th>\n",
       "      <td>Turbo</td>\n",
       "      <td>movie</td>\n",
       "      <td>Documentary</td>\n",
       "      <td>2008.0</td>\n",
       "      <td>NaN</td>\n",
       "      <td>NaN</td>\n",
       "      <td>AO, BE, BF, BM, BY, BZ, CD, CH, CI, CM, GF, GH...</td>\n",
       "      <td>amazon</td>\n",
       "    </tr>\n",
       "    <tr>\n",
       "      <th>3290</th>\n",
       "      <td>Realtime</td>\n",
       "      <td>movie</td>\n",
       "      <td>Documentary</td>\n",
       "      <td>2007.0</td>\n",
       "      <td>NaN</td>\n",
       "      <td>NaN</td>\n",
       "      <td>AG, AO, AR, BB, BE, BF, BM, BO, BS, BY, BZ, CD...</td>\n",
       "      <td>amazon</td>\n",
       "    </tr>\n",
       "    <tr>\n",
       "      <th>3888</th>\n",
       "      <td>Crusty Demons 14: A Bloodthirsty Saga</td>\n",
       "      <td>movie</td>\n",
       "      <td>Action</td>\n",
       "      <td>2008.0</td>\n",
       "      <td>NaN</td>\n",
       "      <td>NaN</td>\n",
       "      <td>US</td>\n",
       "      <td>amazon</td>\n",
       "    </tr>\n",
       "    <tr>\n",
       "      <th>...</th>\n",
       "      <td>...</td>\n",
       "      <td>...</td>\n",
       "      <td>...</td>\n",
       "      <td>...</td>\n",
       "      <td>...</td>\n",
       "      <td>...</td>\n",
       "      <td>...</td>\n",
       "      <td>...</td>\n",
       "    </tr>\n",
       "    <tr>\n",
       "      <th>20092</th>\n",
       "      <td>NaN</td>\n",
       "      <td>tv</td>\n",
       "      <td>Reality</td>\n",
       "      <td>2024.0</td>\n",
       "      <td>NaN</td>\n",
       "      <td>NaN</td>\n",
       "      <td>HK, IN, PH, PK, SG, TW</td>\n",
       "      <td>netflix</td>\n",
       "    </tr>\n",
       "    <tr>\n",
       "      <th>20096</th>\n",
       "      <td>NaN</td>\n",
       "      <td>tv</td>\n",
       "      <td>Reality, Family</td>\n",
       "      <td>2024.0</td>\n",
       "      <td>NaN</td>\n",
       "      <td>NaN</td>\n",
       "      <td>KR</td>\n",
       "      <td>netflix</td>\n",
       "    </tr>\n",
       "    <tr>\n",
       "      <th>20097</th>\n",
       "      <td>After School Doctor</td>\n",
       "      <td>tv</td>\n",
       "      <td>Drama</td>\n",
       "      <td>2024.0</td>\n",
       "      <td>NaN</td>\n",
       "      <td>NaN</td>\n",
       "      <td>JP, LI, MC</td>\n",
       "      <td>netflix</td>\n",
       "    </tr>\n",
       "    <tr>\n",
       "      <th>20098</th>\n",
       "      <td>NaN</td>\n",
       "      <td>tv</td>\n",
       "      <td>Kids</td>\n",
       "      <td>2024.0</td>\n",
       "      <td>NaN</td>\n",
       "      <td>NaN</td>\n",
       "      <td>KR</td>\n",
       "      <td>netflix</td>\n",
       "    </tr>\n",
       "    <tr>\n",
       "      <th>20099</th>\n",
       "      <td>NaN</td>\n",
       "      <td>tv</td>\n",
       "      <td>Reality</td>\n",
       "      <td>2024.0</td>\n",
       "      <td>NaN</td>\n",
       "      <td>NaN</td>\n",
       "      <td>AG, AL, AO, AR, AU, AZ, BA, BB, BG, BM, BO, BR...</td>\n",
       "      <td>netflix</td>\n",
       "    </tr>\n",
       "  </tbody>\n",
       "</table>\n",
       "<p>8791 rows × 8 columns</p>\n",
       "</div>"
      ],
      "text/plain": [
       "                                       title   type           genres  \\\n",
       "1319                                  Rounds  movie            Short   \n",
       "2874                             Futureproof  movie            Short   \n",
       "3289                                   Turbo  movie      Documentary   \n",
       "3290                                Realtime  movie      Documentary   \n",
       "3888   Crusty Demons 14: A Bloodthirsty Saga  movie           Action   \n",
       "...                                      ...    ...              ...   \n",
       "20092                                    NaN     tv          Reality   \n",
       "20096                                    NaN     tv  Reality, Family   \n",
       "20097                    After School Doctor     tv            Drama   \n",
       "20098                                    NaN     tv             Kids   \n",
       "20099                                    NaN     tv          Reality   \n",
       "\n",
       "       releaseYear  imdbAverageRating  imdbNumVotes  \\\n",
       "1319        2007.0                NaN           NaN   \n",
       "2874        2005.0                NaN           NaN   \n",
       "3289        2008.0                NaN           NaN   \n",
       "3290        2007.0                NaN           NaN   \n",
       "3888        2008.0                NaN           NaN   \n",
       "...            ...                ...           ...   \n",
       "20092       2024.0                NaN           NaN   \n",
       "20096       2024.0                NaN           NaN   \n",
       "20097       2024.0                NaN           NaN   \n",
       "20098       2024.0                NaN           NaN   \n",
       "20099       2024.0                NaN           NaN   \n",
       "\n",
       "                                      availableCountries platform  \n",
       "1319                                                  NZ   amazon  \n",
       "2874                                                  AU   amazon  \n",
       "3289   AO, BE, BF, BM, BY, BZ, CD, CH, CI, CM, GF, GH...   amazon  \n",
       "3290   AG, AO, AR, BB, BE, BF, BM, BO, BS, BY, BZ, CD...   amazon  \n",
       "3888                                                  US   amazon  \n",
       "...                                                  ...      ...  \n",
       "20092                             HK, IN, PH, PK, SG, TW  netflix  \n",
       "20096                                                 KR  netflix  \n",
       "20097                                         JP, LI, MC  netflix  \n",
       "20098                                                 KR  netflix  \n",
       "20099  AG, AL, AO, AR, AU, AZ, BA, BB, BG, BM, BO, BR...  netflix  \n",
       "\n",
       "[8791 rows x 8 columns]"
      ]
     },
     "execution_count": 164,
     "metadata": {},
     "output_type": "execute_result"
    }
   ],
   "source": [
    "missing_imdbAverageRating = data_all_platforms[data_all_platforms['imdbAverageRating'].isnull()]\n",
    "missing_imdbAverageRating"
   ]
  },
  {
   "cell_type": "markdown",
   "metadata": {},
   "source": [
    "We checked that all the missing values for imdbAverageRating are the same than imdbNumVotes. This happens because these are films and tv shows that don't have any vote so they also haven't average rating. The missing of average is estructuraly because it's not possible to have a rate if you don't have votes. We will check if the dataset data_all_platforms has observations in the feature imdbNumVotes with 0 value"
   ]
  },
  {
   "cell_type": "code",
   "execution_count": 166,
   "metadata": {},
   "outputs": [
    {
     "data": {
      "text/plain": [
       "title                   0\n",
       "type                    0\n",
       "genres                  0\n",
       "releaseYear           0.0\n",
       "imdbAverageRating     0.0\n",
       "imdbNumVotes          0.0\n",
       "availableCountries      0\n",
       "platform                0\n",
       "dtype: object"
      ]
     },
     "execution_count": 166,
     "metadata": {},
     "output_type": "execute_result"
    }
   ],
   "source": [
    "num_zero_num_votes = data_all_platforms[data_all_platforms['imdbNumVotes'] == 0].sum()\n",
    "num_zero_num_votes"
   ]
  },
  {
   "cell_type": "markdown",
   "metadata": {},
   "source": [
    "So, we can change the missing values in imdbNumVotes as 0, and create a new type of value in imdbAverageRating"
   ]
  }
 ],
 "metadata": {
  "kernelspec": {
   "display_name": "venv",
   "language": "python",
   "name": "python3"
  },
  "language_info": {
   "codemirror_mode": {
    "name": "ipython",
    "version": 3
   },
   "file_extension": ".py",
   "mimetype": "text/x-python",
   "name": "python",
   "nbconvert_exporter": "python",
   "pygments_lexer": "ipython3",
   "version": "3.8.3"
  }
 },
 "nbformat": 4,
 "nbformat_minor": 2
}
